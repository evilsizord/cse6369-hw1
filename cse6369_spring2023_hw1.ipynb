{
  "nbformat": 4,
  "nbformat_minor": 0,
  "metadata": {
    "colab": {
      "provenance": [],
      "toc_visible": true
    },
    "kernelspec": {
      "name": "python3",
      "display_name": "Python 3"
    },
    "language_info": {
      "name": "python"
    },
    "gpuClass": "standard"
  },
  "cells": [
    {
      "cell_type": "markdown",
      "source": [
        "# CSE 6369 - Spring 2023 - Homework 1\n",
        "\n",
        "\n",
        "## Student Name: Daniel Evilsizor\n",
        "\n",
        "\n",
        "## Student ID: 1000408341"
      ],
      "metadata": {
        "id": "BSjb-zwKzJSW"
      }
    },
    {
      "cell_type": "markdown",
      "source": [
        "# Install packages"
      ],
      "metadata": {
        "id": "qg05ESogmSng"
      }
    },
    {
      "cell_type": "code",
      "source": [
        "!pip install gymnasium==0.27.1 -q\n",
        "!pip install gymnasium[box2d] -q\n",
        "!pip install moviepy -q\n",
        "!pip install -U kora -q"
      ],
      "metadata": {
        "id": "ZU6o_mdnmMAR",
        "colab": {
          "base_uri": "https://localhost:8080/"
        },
        "outputId": "075fb30e-9f98-49b7-9032-667b6e1712b2"
      },
      "execution_count": 1,
      "outputs": [
        {
          "output_type": "stream",
          "name": "stdout",
          "text": [
            "\u001b[2K     \u001b[90m━━━━━━━━━━━━━━━━━━━━━━━━━━━━━━━━━━━━━━\u001b[0m \u001b[32m883.7/883.7 KB\u001b[0m \u001b[31m12.2 MB/s\u001b[0m eta \u001b[36m0:00:00\u001b[0m\n",
            "\u001b[2K     \u001b[90m━━━━━━━━━━━━━━━━━━━━━━━━━━━━━━━━━━━━━━━━\u001b[0m \u001b[32m1.8/1.8 MB\u001b[0m \u001b[31m20.8 MB/s\u001b[0m eta \u001b[36m0:00:00\u001b[0m\n",
            "\u001b[2K     \u001b[90m━━━━━━━━━━━━━━━━━━━━━━━━━━━━━━━━━━━━━━\u001b[0m \u001b[32m374.4/374.4 KB\u001b[0m \u001b[31m30.5 MB/s\u001b[0m eta \u001b[36m0:00:00\u001b[0m\n",
            "\u001b[?25h  Preparing metadata (setup.py) ... \u001b[?25l\u001b[?25hdone\n",
            "\u001b[2K     \u001b[90m━━━━━━━━━━━━━━━━━━━━━━━━━━━━━━━━━━━━━━━━\u001b[0m \u001b[32m13.7/13.7 MB\u001b[0m \u001b[31m77.2 MB/s\u001b[0m eta \u001b[36m0:00:00\u001b[0m\n",
            "\u001b[?25h  \u001b[1;31merror\u001b[0m: \u001b[1msubprocess-exited-with-error\u001b[0m\n",
            "  \n",
            "  \u001b[31m×\u001b[0m \u001b[32mpython setup.py bdist_wheel\u001b[0m did not run successfully.\n",
            "  \u001b[31m│\u001b[0m exit code: \u001b[1;36m1\u001b[0m\n",
            "  \u001b[31m╰─>\u001b[0m See above for output.\n",
            "  \n",
            "  \u001b[1;35mnote\u001b[0m: This error originates from a subprocess, and is likely not a problem with pip.\n",
            "  Building wheel for box2d-py (setup.py) ... \u001b[?25lerror\n",
            "\u001b[31m  ERROR: Failed building wheel for box2d-py\u001b[0m\u001b[31m\n",
            "\u001b[0m\u001b[?25h  Running setup.py install for box2d-py ... \u001b[?25l\u001b[?25hdone\n",
            "\u001b[33m  DEPRECATION: box2d-py was installed using the legacy 'setup.py install' method, because a wheel could not be built for it. A possible replacement is to fix the wheel build issue reported above. Discussion can be found at https://github.com/pypa/pip/issues/8368\u001b[0m\u001b[33m\n",
            "\u001b[2K     \u001b[90m━━━━━━━━━━━━━━━━━━━━━━━━━━━━━━━━━━━━━━━━\u001b[0m \u001b[32m57.7/57.7 KB\u001b[0m \u001b[31m2.3 MB/s\u001b[0m eta \u001b[36m0:00:00\u001b[0m\n",
            "\u001b[2K     \u001b[90m━━━━━━━━━━━━━━━━━━━━━━━━━━━━━━━━━━━━━━━━\u001b[0m \u001b[32m1.6/1.6 MB\u001b[0m \u001b[31m24.7 MB/s\u001b[0m eta \u001b[36m0:00:00\u001b[0m\n",
            "\u001b[?25h"
          ]
        }
      ]
    },
    {
      "cell_type": "markdown",
      "source": [
        "# Import libraries"
      ],
      "metadata": {
        "id": "lLDP4n6cmEuZ"
      }
    },
    {
      "cell_type": "code",
      "execution_count": 2,
      "metadata": {
        "id": "-e69d4FGlaGd",
        "colab": {
          "base_uri": "https://localhost:8080/",
          "height": 304
        },
        "outputId": "22794a98-b91a-41b6-f03f-b750cf21cdef"
      },
      "outputs": [
        {
          "output_type": "stream",
          "name": "stdout",
          "text": [
            "Mounted at /content/gdrive\n",
            "/content/gdrive/MyDrive/assign_01\n"
          ]
        },
        {
          "output_type": "error",
          "ename": "SyntaxError",
          "evalue": "ignored",
          "traceback": [
            "Traceback \u001b[0;36m(most recent call last)\u001b[0m:\n",
            "  File \u001b[1;32m\"/usr/local/lib/python3.9/dist-packages/IPython/core/interactiveshell.py\"\u001b[0m, line \u001b[1;32m3553\u001b[0m, in \u001b[1;35mrun_code\u001b[0m\n    exec(code_obj, self.user_global_ns, self.user_ns)\n",
            "\u001b[0;36m  File \u001b[0;32m\"<ipython-input-2-a8b90289fcb5>\"\u001b[0;36m, line \u001b[0;32m13\u001b[0;36m, in \u001b[0;35m<cell line: 13>\u001b[0;36m\u001b[0m\n\u001b[0;31m    from learning_algorithms import PGTrainer\u001b[0m\n",
            "\u001b[0;36m  File \u001b[0;32m\"/content/gdrive/MyDrive/assign_01/learning_algorithms.py\"\u001b[0;36m, line \u001b[0;32m29\u001b[0m\n\u001b[0;31m    avg_ro_reward = ???\u001b[0m\n\u001b[0m                    ^\u001b[0m\n\u001b[0;31mSyntaxError\u001b[0m\u001b[0;31m:\u001b[0m invalid syntax\n"
          ]
        }
      ],
      "source": [
        "import pickle\n",
        "import random\n",
        "import argparse\n",
        "import moviepy\n",
        "import matplotlib.pyplot as plt\n",
        "import seaborn as sns\n",
        "from kora.drive import upload_public\n",
        "from google.colab import drive\n",
        "\n",
        "drive.mount('/content/gdrive')\n",
        "%cd gdrive/MyDrive/assign_01/\n",
        "\n",
        "from learning_algorithms import PGTrainer\n",
        "from utils import seed_everything"
      ]
    },
    {
      "cell_type": "markdown",
      "source": [
        "# Train an agent"
      ],
      "metadata": {
        "id": "A9-qFcWVpzGc"
      }
    },
    {
      "cell_type": "code",
      "source": [
        "# set simulation parameters\n",
        "params = {\n",
        "    'env_name': 'CartPole-v1',\n",
        "    'rng_seed': 6369,\n",
        "    'reward_to_go': True,\n",
        "    'reward_discount': False,\n",
        "    'n_rollout': 10,\n",
        "    'n_trajectory_per_rollout': 2,\n",
        "    'hidden_dim': 32,\n",
        "    'lr': 3e-3,\n",
        "    'exp_name': 'CartPole_v1_t0'\n",
        "}\n",
        "\n",
        "# Seed RNGs\n",
        "seed_everything(params['rng_seed'])\n",
        "\n",
        "# Train agent\n",
        "trainer = PGTrainer(params)\n",
        "trainer.run_training_loop()"
      ],
      "metadata": {
        "id": "n0hSISzelkYw"
      },
      "execution_count": null,
      "outputs": []
    },
    {
      "cell_type": "markdown",
      "source": [
        "# Display Video"
      ],
      "metadata": {
        "id": "MFBDYmdAwWUg"
      }
    },
    {
      "cell_type": "code",
      "source": [
        "# (ref: https://stackoverflow.com/questions/48376580/google-colab-how-to-read-data-from-my-google-drive)\n",
        "# Upload video\n",
        "url = upload_public('CartPole/rl-video-episode-0.mp4')\n",
        "# Then display it\n",
        "from IPython.display import HTML\n",
        "HTML(f\"\"\"<video src={url} width=500 controls/>\"\"\")"
      ],
      "metadata": {
        "id": "FZn9tuKXwVgZ"
      },
      "execution_count": null,
      "outputs": []
    },
    {
      "cell_type": "markdown",
      "source": [
        "# Visualize learning curve"
      ],
      "metadata": {
        "id": "2hE4ZI8ZocXH"
      }
    },
    {
      "cell_type": "code",
      "source": [
        "# (ref: http://rail.eecs.berkeley.edu/deeprlcourse/static/misc/viz.pdf)\n",
        "file_name = params['exp_name'] + '.pkl'\n",
        "with open(file_name, 'rb') as f:\n",
        "    ro_reward = pickle.load(f)\n",
        "\n",
        "# Plot the data\n",
        "sns.lineplot(data=ro_reward, linestyle='--', label='tr1')\n",
        "plt.xlabel('rollout', fontsize=25, labelpad=-2)\n",
        "plt.ylabel('reward', fontsize=25)\n",
        "plt.title('Learning curve for CartPole', fontsize=30)\n",
        "plt.legend()\n",
        "plt.grid()\n",
        "plt.show()"
      ],
      "metadata": {
        "id": "rSM3mWLnmsYY"
      },
      "execution_count": null,
      "outputs": []
    }
  ]
}